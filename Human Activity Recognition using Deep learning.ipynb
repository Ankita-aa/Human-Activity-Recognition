{
 "cells": [
  {
   "cell_type": "markdown",
   "id": "swedish-story",
   "metadata": {},
   "source": [
    "# Importing Library"
   ]
  },
  {
   "cell_type": "code",
   "execution_count": 1,
   "id": "ordinary-monkey",
   "metadata": {},
   "outputs": [],
   "source": [
    "import warnings\n",
    "warnings.filterwarnings(\"ignore\")\n",
    "import numpy as np\n",
    "import pandas as pd\n",
    "import tensorflow as tf\n",
    "from tensorflow.keras.models import Sequential\n",
    "from tensorflow.keras.layers import Dense , LSTM , Dropout , Dropout ,Flatten\n",
    "from sklearn.metrics import accuracy_score , confusion_matrix , classification_report"
   ]
  },
  {
   "cell_type": "markdown",
   "id": "connected-species",
   "metadata": {},
   "source": [
    " "
   ]
  },
  {
   "cell_type": "markdown",
   "id": "optical-annotation",
   "metadata": {},
   "source": [
    "# Data Preparation"
   ]
  },
  {
   "cell_type": "code",
   "execution_count": 2,
   "id": "secret-boating",
   "metadata": {},
   "outputs": [],
   "source": [
    "ACTIVITIES = {\n",
    "    0: 'WALKING',\n",
    "    1: 'WALKING_UPSTAIRS',\n",
    "    2: 'WALKING_DOWNSTAIRS',\n",
    "    3: 'SITTING',\n",
    "    4: 'STANDING',\n",
    "    5: 'LAYING',\n",
    "}\n",
    "\n",
    "SIGNALS = [\n",
    "    \"body_acc_x\",\n",
    "    \"body_acc_y\",\n",
    "    \"body_acc_z\",\n",
    "    \"body_gyro_x\",\n",
    "    \"body_gyro_y\",\n",
    "    \"body_gyro_z\",\n",
    "    \"total_acc_x\",\n",
    "    \"total_acc_y\",\n",
    "    \"total_acc_z\"\n",
    "]\n",
    "\n",
    "DATADIR = 'UCI_HAR_Dataset'"
   ]
  },
  {
   "cell_type": "code",
   "execution_count": 3,
   "id": "typical-above",
   "metadata": {},
   "outputs": [],
   "source": [
    "def _read_csv(filename):\n",
    "    return pd.read_csv(filename , header = None , delim_whitespace = True)\n",
    "\n",
    "def load_signal(subset):\n",
    "    signal_data = []\n",
    "    \n",
    "    for signal in SIGNALS:\n",
    "        filename = f'UCI_HAR_Dataset/{subset}/Inertial Signals/{signal}_{subset}.txt'\n",
    "        signal_data.append(\n",
    "            _read_csv(filename).to_numpy()\n",
    "        ) \n",
    "    return np.transpose(signal_data, (1, 2, 0))\n",
    "\n",
    "\n",
    "def load_y(subset):\n",
    "    filename = f'UCI_HAR_Dataset/{subset}/y_{subset}.txt'\n",
    "    y = _read_csv(filename)[0]\n",
    "\n",
    "    return pd.get_dummies(y).to_numpy()\n",
    "\n",
    "def load_data():\n",
    "    \n",
    "    X_train, X_test = load_signal('train'), load_signal('test')\n",
    "    y_train, y_test = load_y('train'), load_y('test')\n",
    "\n",
    "    return X_train, X_test, y_train, y_test"
   ]
  },
  {
   "cell_type": "code",
   "execution_count": 4,
   "id": "looking-master",
   "metadata": {},
   "outputs": [],
   "source": [
    "Xtrain , Xtest , Ytrain , Ytest = load_data()"
   ]
  },
  {
   "cell_type": "code",
   "execution_count": 5,
   "id": "freelance-celebration",
   "metadata": {},
   "outputs": [
    {
     "name": "stdout",
     "output_type": "stream",
     "text": [
      "(7352, 128, 9)\n",
      "(7352, 6)\n",
      "(2947, 128, 9)\n",
      "(2947, 6)\n"
     ]
    }
   ],
   "source": [
    "print(Xtrain.shape)\n",
    "print(Ytrain.shape)\n",
    "print(Xtest.shape)\n",
    "print(Ytest.shape)"
   ]
  },
  {
   "cell_type": "markdown",
   "id": "contemporary-belief",
   "metadata": {},
   "source": [
    " "
   ]
  },
  {
   "cell_type": "markdown",
   "id": "detailed-effects",
   "metadata": {},
   "source": [
    "# LSTM Sequence Modeling"
   ]
  },
  {
   "cell_type": "code",
   "execution_count": 6,
   "id": "median-group",
   "metadata": {},
   "outputs": [
    {
     "name": "stdout",
     "output_type": "stream",
     "text": [
      "Model: \"sequential\"\n",
      "_________________________________________________________________\n",
      "Layer (type)                 Output Shape              Param #   \n",
      "=================================================================\n",
      "lstm (LSTM)                  (None, 32)                5376      \n",
      "_________________________________________________________________\n",
      "dropout (Dropout)            (None, 32)                0         \n",
      "_________________________________________________________________\n",
      "flatten (Flatten)            (None, 32)                0         \n",
      "_________________________________________________________________\n",
      "dense (Dense)                (None, 30)                990       \n",
      "_________________________________________________________________\n",
      "dense_1 (Dense)              (None, 6)                 186       \n",
      "=================================================================\n",
      "Total params: 6,552\n",
      "Trainable params: 6,552\n",
      "Non-trainable params: 0\n",
      "_________________________________________________________________\n"
     ]
    }
   ],
   "source": [
    "model = Sequential()\n",
    "model.add(LSTM(32,input_shape = (128,9)))\n",
    "model.add(Dropout(0.5))\n",
    "model.add(Flatten())\n",
    "model.add(Dense(30 , activation = \"relu\"))\n",
    "model.add(Dense(6, activation = \"softmax\" ))\n",
    "\n",
    "model.summary()"
   ]
  },
  {
   "cell_type": "markdown",
   "id": "acknowledged-failure",
   "metadata": {},
   "source": [
    " "
   ]
  },
  {
   "cell_type": "markdown",
   "id": "considered-estonia",
   "metadata": {},
   "source": [
    "# Training"
   ]
  },
  {
   "cell_type": "code",
   "execution_count": 10,
   "id": "upper-middle",
   "metadata": {},
   "outputs": [
    {
     "name": "stdout",
     "output_type": "stream",
     "text": [
      "Epoch 1/15\n",
      "368/368 [==============================] - 10s 21ms/step - loss: 0.3157 - accuracy: 0.8932 - val_loss: 0.3969 - val_accuracy: 0.8768\n",
      "Epoch 2/15\n",
      "368/368 [==============================] - 5s 13ms/step - loss: 0.2473 - accuracy: 0.9163 - val_loss: 0.3680 - val_accuracy: 0.8836\n",
      "Epoch 3/15\n",
      "368/368 [==============================] - 5s 13ms/step - loss: 0.2357 - accuracy: 0.9204 - val_loss: 0.5403 - val_accuracy: 0.8147\n",
      "Epoch 4/15\n",
      "368/368 [==============================] - 5s 13ms/step - loss: 0.2258 - accuracy: 0.9191 - val_loss: 0.3978 - val_accuracy: 0.8741\n",
      "Epoch 5/15\n",
      "368/368 [==============================] - 5s 14ms/step - loss: 0.2035 - accuracy: 0.9291 - val_loss: 0.4385 - val_accuracy: 0.8843\n",
      "Epoch 6/15\n",
      "368/368 [==============================] - 5s 14ms/step - loss: 0.3105 - accuracy: 0.8936 - val_loss: 0.4902 - val_accuracy: 0.8765\n",
      "Epoch 7/15\n",
      "368/368 [==============================] - 5s 13ms/step - loss: 0.2390 - accuracy: 0.9068 - val_loss: 0.3975 - val_accuracy: 0.8870\n",
      "Epoch 8/15\n",
      "368/368 [==============================] - 5s 14ms/step - loss: 0.1946 - accuracy: 0.9253 - val_loss: 0.4762 - val_accuracy: 0.8853\n",
      "Epoch 9/15\n",
      "368/368 [==============================] - 5s 14ms/step - loss: 0.1751 - accuracy: 0.9381 - val_loss: 0.3997 - val_accuracy: 0.8962\n",
      "Epoch 10/15\n",
      "368/368 [==============================] - 5s 13ms/step - loss: 0.1742 - accuracy: 0.9370 - val_loss: 0.4091 - val_accuracy: 0.8853\n",
      "Epoch 11/15\n",
      "368/368 [==============================] - 5s 13ms/step - loss: 0.1845 - accuracy: 0.9319 - val_loss: 0.3798 - val_accuracy: 0.8809\n",
      "Epoch 12/15\n",
      "368/368 [==============================] - 5s 14ms/step - loss: 0.1829 - accuracy: 0.9348 - val_loss: 0.5207 - val_accuracy: 0.8677\n",
      "Epoch 13/15\n",
      "368/368 [==============================] - 5s 13ms/step - loss: 0.1752 - accuracy: 0.9354 - val_loss: 0.4051 - val_accuracy: 0.8914\n",
      "Epoch 14/15\n",
      "368/368 [==============================] - 5s 13ms/step - loss: 0.1833 - accuracy: 0.9350 - val_loss: 0.5020 - val_accuracy: 0.8948\n",
      "Epoch 15/15\n",
      "368/368 [==============================] - 5s 13ms/step - loss: 0.1616 - accuracy: 0.9437 - val_loss: 0.4933 - val_accuracy: 0.9016\n"
     ]
    },
    {
     "data": {
      "text/plain": [
       "<keras.callbacks.History at 0x1c3a635e5b0>"
      ]
     },
     "execution_count": 10,
     "metadata": {},
     "output_type": "execute_result"
    }
   ],
   "source": [
    "model.compile(optimizer = \"adam\" , loss= \"categorical_crossentropy\" , metrics = [\"accuracy\"])\n",
    "model.fit(Xtrain , Ytrain , epochs = 15 , batch_size = 20 , validation_data = (Xtest , Ytest))"
   ]
  },
  {
   "cell_type": "code",
   "execution_count": 11,
   "id": "boolean-westminster",
   "metadata": {},
   "outputs": [
    {
     "name": "stdout",
     "output_type": "stream",
     "text": [
      "93/93 [==============================] - 1s 7ms/step - loss: 0.4933 - accuracy: 0.9016\n"
     ]
    }
   ],
   "source": [
    "loss , accuracy = model.evaluate(Xtest, Ytest )"
   ]
  },
  {
   "cell_type": "code",
   "execution_count": 12,
   "id": "creative-support",
   "metadata": {},
   "outputs": [
    {
     "name": "stdout",
     "output_type": "stream",
     "text": [
      "Loss on test : 0.49325796961784363\n",
      "Accuracy on test : 90.16 %\n"
     ]
    }
   ],
   "source": [
    "print(\"Loss on test :\",loss)\n",
    "print(\"Accuracy on test :\",round(accuracy*100,2),\"%\")"
   ]
  },
  {
   "cell_type": "code",
   "execution_count": null,
   "id": "linear-cabin",
   "metadata": {},
   "outputs": [],
   "source": []
  }
 ],
 "metadata": {
  "kernelspec": {
   "display_name": "Python 3 (ipykernel)",
   "language": "python",
   "name": "python3"
  },
  "language_info": {
   "codemirror_mode": {
    "name": "ipython",
    "version": 3
   },
   "file_extension": ".py",
   "mimetype": "text/x-python",
   "name": "python",
   "nbconvert_exporter": "python",
   "pygments_lexer": "ipython3",
   "version": "3.8.11"
  }
 },
 "nbformat": 4,
 "nbformat_minor": 5
}
